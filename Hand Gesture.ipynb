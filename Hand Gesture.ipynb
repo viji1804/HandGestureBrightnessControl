{
 "cells": [
  {
   "cell_type": "code",
   "execution_count": 1,
   "id": "d2742951-5aa9-4926-b7bc-9cbb49c420e1",
   "metadata": {},
   "outputs": [
    {
     "name": "stderr",
     "output_type": "stream",
     "text": [
      "C:\\Users\\viji0\\anaconda3\\lib\\site-packages\\google\\protobuf\\symbol_database.py:55: UserWarning: SymbolDatabase.GetPrototype() is deprecated. Please use message_factory.GetMessageClass() instead. SymbolDatabase.GetPrototype() will be removed soon.\n",
      "  warnings.warn('SymbolDatabase.GetPrototype() is deprecated. Please '\n"
     ]
    }
   ],
   "source": [
    "import cv2\n",
    "import mediapipe as mp\n",
    "import numpy as np\n",
    "import screen_brightness_control as sbc\n",
    "\n",
    "# Initialize MediaPipe Hands and Drawing Utilities\n",
    "mp_hands = mp.solutions.hands\n",
    "mp_drawing = mp.solutions.drawing_utils\n",
    "\n",
    "# Initialize webcam\n",
    "cap = cv2.VideoCapture(0)\n",
    "hands = mp_hands.Hands()\n",
    "\n",
    "try:\n",
    "    while True:\n",
    "        success, frame = cap.read()\n",
    "        if not success:\n",
    "            break\n",
    "\n",
    "        # Flip the frame horizontally for a later selfie-view display\n",
    "        frame = cv2.flip(frame, 1)\n",
    "        frame_rgb = cv2.cvtColor(frame, cv2.COLOR_BGR2RGB)\n",
    "\n",
    "        # Process the frame and find hands\n",
    "        results = hands.process(frame_rgb)\n",
    "\n",
    "        if results.multi_hand_landmarks:\n",
    "            for hand_landmarks in results.multi_hand_landmarks:\n",
    "                # Draw landmarks\n",
    "                mp_drawing.draw_landmarks(frame, hand_landmarks, mp_hands.HAND_CONNECTIONS)\n",
    "\n",
    "                # Extract the coordinates of the thumb (landmark 4) and index finger (landmark 8)\n",
    "                x_thumb, y_thumb = int(hand_landmarks.landmark[4].x * frame.shape[1]), int(hand_landmarks.landmark[4].y * frame.shape[0])\n",
    "                x_index, y_index = int(hand_landmarks.landmark[8].x * frame.shape[1]), int(hand_landmarks.landmark[8].y * frame.shape[0])\n",
    "\n",
    "                # Draw circles on thumb and index finger tips\n",
    "                cv2.circle(frame, (x_thumb, y_thumb), 10, (0, 0, 255), -1)\n",
    "                cv2.circle(frame, (x_index, y_index), 10, (0, 0, 255), -1)\n",
    "\n",
    "                # Calculate the distance between the thumb and index finger tips\n",
    "                distance = np.sqrt((x_index - x_thumb) ** 2 + (y_index - y_thumb) ** 2)\n",
    "\n",
    "                # Adjust the screen brightness based on the distance\n",
    "                brightness = np.clip(int(distance), 0, 100)\n",
    "                sbc.set_brightness(brightness)\n",
    "\n",
    "                # Display the current brightness on the frame\n",
    "                cv2.putText(frame, f'Brightness: {brightness}%', (50, 50), cv2.FONT_HERSHEY_SIMPLEX, 1, (255, 0, 0), 2, cv2.LINE_AA)\n",
    "\n",
    "        # Display the frame\n",
    "        cv2.imshow('Hand Gesture Recognition for Brightness Control', frame)\n",
    "\n",
    "        if cv2.waitKey(1) & 0xFF == 27:  # Exit on pressing ESC\n",
    "            break\n",
    "\n",
    "except KeyboardInterrupt:\n",
    "    pass\n",
    "\n",
    "# Release the webcam and close all windows\n",
    "cap.release()\n",
    "cv2.destroyAllWindows()\n"
   ]
  },
  {
   "cell_type": "code",
   "execution_count": null,
   "id": "e5effe5f-bf75-4602-897f-6ad88f1b6103",
   "metadata": {},
   "outputs": [],
   "source": []
  }
 ],
 "metadata": {
  "kernelspec": {
   "display_name": "Python 3 (ipykernel)",
   "language": "python",
   "name": "python3"
  },
  "language_info": {
   "codemirror_mode": {
    "name": "ipython",
    "version": 3
   },
   "file_extension": ".py",
   "mimetype": "text/x-python",
   "name": "python",
   "nbconvert_exporter": "python",
   "pygments_lexer": "ipython3",
   "version": "3.9.13"
  }
 },
 "nbformat": 4,
 "nbformat_minor": 5
}
